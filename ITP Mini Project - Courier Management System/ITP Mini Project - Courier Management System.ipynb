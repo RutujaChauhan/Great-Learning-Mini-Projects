{
 "cells": [
  {
   "cell_type": "markdown",
   "id": "810c73a8",
   "metadata": {},
   "source": [
    "# ITP Mini-Project"
   ]
  },
  {
   "cell_type": "markdown",
   "id": "516c9de4",
   "metadata": {},
   "source": [
    "                                                                                            Submitted by - Mayur Shrotriya"
   ]
  },
  {
   "cell_type": "markdown",
   "id": "0729cddb",
   "metadata": {},
   "source": [
    "**Q1. Create a Dictionary of lists to store the information of shipments given in the table**"
   ]
  },
  {
   "cell_type": "code",
   "execution_count": 1,
   "id": "4ffe4be6",
   "metadata": {},
   "outputs": [],
   "source": [
    "shipment = {\n",
    "    1 : {\"Shipmentid\":101 ,\"Sender\":1, \"Receiver\":3, \"Start Date\":\"14/03/2020\", \"Delivery Date\":\"25/03/2020\" , \"Sender Location\":\"Area 1\" , \"Receiver Location\":\"Area 6\", \"Delivery Status\":\"Delivered\", \"Shipping Cost\":198},\n",
    "    2 : {\"Shipmentid\":102, \"Sender\":4, \"Receiver\":1, \"Start Date\":\"18/06/2020\", \"Delivery Date\":\"09/07/2020\" , \"Sender Location\":\"Area 2\" , \"Receiver Location\":\"Area 4\", \"Delivery Status\":\"Delivered\", \"Shipping Cost\":275},\n",
    "    3 : {\"Shipmentid\":103 ,\"Sender\":2, \"Receiver\":3, \"Start Date\":\"01/12/2020\", \"Delivery Date\":\"Null\" , \"Sender Location\":\"Area 5\" , \"Receiver Location\":\"Area 1\", \"Delivery Status\":\"In-Transit\", \"Shipping Cost\":200},\n",
    "    4 : {\"Shipmentid\":104, \"Sender\":1, \"Receiver\":5, \"Start Date\":\"23/06/2020\", \"Delivery Date\":\"25/06/2020\" , \"Sender Location\":\"Area 1\" , \"Receiver Location\":\"Area 4\", \"Delivery Status\":\"Delivered\", \"Shipping Cost\":314},\n",
    "    5 : {\"Shipmentid\":105, \"Sender\":3, \"Receiver\":4, \"Start Date\":\"29/08/2020\", \"Delivery Date\":\"10/09/2020\" , \"Sender Location\":\"Area 5\" , \"Receiver Location\":\"Area 3\", \"Delivery Status\":\"Delivered\", \"Shipping Cost\":275},\n",
    "    6 : {\"Shipmentid\":106, \"Sender\":5, \"Receiver\":2, \"Start Date\":\"28/06/2020\", \"Delivery Date\":\"Null\" , \"Sender Location\":\"Area 3\" , \"Receiver Location\":\"Area 1\", \"Delivery Status\":\"In-Transit\", \"Shipping Cost\":270}\n",
    "}"
   ]
  },
  {
   "cell_type": "code",
   "execution_count": 2,
   "id": "76751095",
   "metadata": {},
   "outputs": [
    {
     "name": "stdout",
     "output_type": "stream",
     "text": [
      "{1: {'Shipmentid': 101, 'Sender': 1, 'Receiver': 3, 'Start Date': '14/03/2020', 'Delivery Date': '25/03/2020', 'Sender Location': 'Area 1', 'Receiver Location': 'Area 6', 'Delivery Status': 'Delivered', 'Shipping Cost': 198}, 2: {'Shipmentid': 102, 'Sender': 4, 'Receiver': 1, 'Start Date': '18/06/2020', 'Delivery Date': '09/07/2020', 'Sender Location': 'Area 2', 'Receiver Location': 'Area 4', 'Delivery Status': 'Delivered', 'Shipping Cost': 275}, 3: {'Shipmentid': 103, 'Sender': 2, 'Receiver': 3, 'Start Date': '01/12/2020', 'Delivery Date': 'Null', 'Sender Location': 'Area 5', 'Receiver Location': 'Area 1', 'Delivery Status': 'In-Transit', 'Shipping Cost': 200}, 4: {'Shipmentid': 104, 'Sender': 1, 'Receiver': 5, 'Start Date': '23/06/2020', 'Delivery Date': '25/06/2020', 'Sender Location': 'Area 1', 'Receiver Location': 'Area 4', 'Delivery Status': 'Delivered', 'Shipping Cost': 314}, 5: {'Shipmentid': 105, 'Sender': 3, 'Receiver': 4, 'Start Date': '29/08/2020', 'Delivery Date': '10/09/2020', 'Sender Location': 'Area 5', 'Receiver Location': 'Area 3', 'Delivery Status': 'Delivered', 'Shipping Cost': 275}, 6: {'Shipmentid': 106, 'Sender': 5, 'Receiver': 2, 'Start Date': '28/06/2020', 'Delivery Date': 'Null', 'Sender Location': 'Area 3', 'Receiver Location': 'Area 1', 'Delivery Status': 'In-Transit', 'Shipping Cost': 270}}\n"
     ]
    }
   ],
   "source": [
    "print(shipment)"
   ]
  },
  {
   "cell_type": "code",
   "execution_count": 3,
   "id": "03fa52ec",
   "metadata": {},
   "outputs": [
    {
     "name": "stdout",
     "output_type": "stream",
     "text": [
      "1 {'Shipmentid': 101, 'Sender': 1, 'Receiver': 3, 'Start Date': '14/03/2020', 'Delivery Date': '25/03/2020', 'Sender Location': 'Area 1', 'Receiver Location': 'Area 6', 'Delivery Status': 'Delivered', 'Shipping Cost': 198}\n",
      "\n",
      "2 {'Shipmentid': 102, 'Sender': 4, 'Receiver': 1, 'Start Date': '18/06/2020', 'Delivery Date': '09/07/2020', 'Sender Location': 'Area 2', 'Receiver Location': 'Area 4', 'Delivery Status': 'Delivered', 'Shipping Cost': 275}\n",
      "\n",
      "3 {'Shipmentid': 103, 'Sender': 2, 'Receiver': 3, 'Start Date': '01/12/2020', 'Delivery Date': 'Null', 'Sender Location': 'Area 5', 'Receiver Location': 'Area 1', 'Delivery Status': 'In-Transit', 'Shipping Cost': 200}\n",
      "\n",
      "4 {'Shipmentid': 104, 'Sender': 1, 'Receiver': 5, 'Start Date': '23/06/2020', 'Delivery Date': '25/06/2020', 'Sender Location': 'Area 1', 'Receiver Location': 'Area 4', 'Delivery Status': 'Delivered', 'Shipping Cost': 314}\n",
      "\n",
      "5 {'Shipmentid': 105, 'Sender': 3, 'Receiver': 4, 'Start Date': '29/08/2020', 'Delivery Date': '10/09/2020', 'Sender Location': 'Area 5', 'Receiver Location': 'Area 3', 'Delivery Status': 'Delivered', 'Shipping Cost': 275}\n",
      "\n",
      "6 {'Shipmentid': 106, 'Sender': 5, 'Receiver': 2, 'Start Date': '28/06/2020', 'Delivery Date': 'Null', 'Sender Location': 'Area 3', 'Receiver Location': 'Area 1', 'Delivery Status': 'In-Transit', 'Shipping Cost': 270}\n",
      "\n"
     ]
    }
   ],
   "source": [
    "for i in range(1,len(shipment)+1):\n",
    "    print(i,shipment[i], end=\"\\n\\n\")"
   ]
  },
  {
   "cell_type": "markdown",
   "id": "63dd4fba",
   "metadata": {},
   "source": [
    "**Q2. Create a Dictionary of to store the information of clients given in the table.**"
   ]
  },
  {
   "cell_type": "code",
   "execution_count": 4,
   "id": "6965f997",
   "metadata": {},
   "outputs": [],
   "source": [
    "clients = {1:\"Philip\" , 2:\"Omega III\" , 3:\"Ramya\" , 4:\"Romesh\" , 5:\"John\"}"
   ]
  },
  {
   "cell_type": "code",
   "execution_count": 5,
   "id": "9a47fb74",
   "metadata": {},
   "outputs": [
    {
     "name": "stdout",
     "output_type": "stream",
     "text": [
      "{1: 'Philip', 2: 'Omega III', 3: 'Ramya', 4: 'Romesh', 5: 'John'}\n"
     ]
    }
   ],
   "source": [
    "print(clients)"
   ]
  },
  {
   "cell_type": "markdown",
   "id": "d422e70e",
   "metadata": {},
   "source": [
    "**Q3. Write a code to replace client’s id with their respective name in shipment dictionary using a loop and dictionary comprehension**"
   ]
  },
  {
   "cell_type": "code",
   "execution_count": 6,
   "id": "c9dc01ea",
   "metadata": {},
   "outputs": [
    {
     "name": "stdout",
     "output_type": "stream",
     "text": [
      "1 {'Shipmentid': 101, 'Sender': 'Philip', 'Receiver': 'Ramya', 'Start Date': '14/03/2020', 'Delivery Date': '25/03/2020', 'Sender Location': 'Area 1', 'Receiver Location': 'Area 6', 'Delivery Status': 'Delivered', 'Shipping Cost': 198}\n",
      "\n",
      "2 {'Shipmentid': 102, 'Sender': 'Romesh', 'Receiver': 'Philip', 'Start Date': '18/06/2020', 'Delivery Date': '09/07/2020', 'Sender Location': 'Area 2', 'Receiver Location': 'Area 4', 'Delivery Status': 'Delivered', 'Shipping Cost': 275}\n",
      "\n",
      "3 {'Shipmentid': 103, 'Sender': 'Omega III', 'Receiver': 'Ramya', 'Start Date': '01/12/2020', 'Delivery Date': 'Null', 'Sender Location': 'Area 5', 'Receiver Location': 'Area 1', 'Delivery Status': 'In-Transit', 'Shipping Cost': 200}\n",
      "\n",
      "4 {'Shipmentid': 104, 'Sender': 'Philip', 'Receiver': 'John', 'Start Date': '23/06/2020', 'Delivery Date': '25/06/2020', 'Sender Location': 'Area 1', 'Receiver Location': 'Area 4', 'Delivery Status': 'Delivered', 'Shipping Cost': 314}\n",
      "\n",
      "5 {'Shipmentid': 105, 'Sender': 'Ramya', 'Receiver': 'Romesh', 'Start Date': '29/08/2020', 'Delivery Date': '10/09/2020', 'Sender Location': 'Area 5', 'Receiver Location': 'Area 3', 'Delivery Status': 'Delivered', 'Shipping Cost': 275}\n",
      "\n",
      "6 {'Shipmentid': 106, 'Sender': 'John', 'Receiver': 'Omega III', 'Start Date': '28/06/2020', 'Delivery Date': 'Null', 'Sender Location': 'Area 3', 'Receiver Location': 'Area 1', 'Delivery Status': 'In-Transit', 'Shipping Cost': 270}\n",
      "\n"
     ]
    }
   ],
   "source": [
    "for i in range(1,list(shipment.keys())[-1]+1):\n",
    "    shipment[i][\"Sender\"] = clients[shipment[i][\"Sender\"]]\n",
    "    shipment[i][\"Receiver\"] = clients[shipment[i][\"Receiver\"]]\n",
    "    \n",
    "for i in range(1,len(shipment)+1):\n",
    "    print(i,shipment[i], end=\"\\n\\n\")"
   ]
  },
  {
   "cell_type": "markdown",
   "id": "f2a44b2b",
   "metadata": {},
   "source": [
    "**Q4. Print all shipment details that are sent by Phillip**"
   ]
  },
  {
   "cell_type": "code",
   "execution_count": 7,
   "id": "5f97aef7",
   "metadata": {},
   "outputs": [
    {
     "name": "stdout",
     "output_type": "stream",
     "text": [
      "Shipment details that are sent by Phillip:\n",
      "\n",
      "\n",
      "1 {'Shipmentid': 101, 'Sender': 'Philip', 'Receiver': 'Ramya', 'Start Date': '14/03/2020', 'Delivery Date': '25/03/2020', 'Sender Location': 'Area 1', 'Receiver Location': 'Area 6', 'Delivery Status': 'Delivered', 'Shipping Cost': 198}\n",
      "\n",
      "4 {'Shipmentid': 104, 'Sender': 'Philip', 'Receiver': 'John', 'Start Date': '23/06/2020', 'Delivery Date': '25/06/2020', 'Sender Location': 'Area 1', 'Receiver Location': 'Area 4', 'Delivery Status': 'Delivered', 'Shipping Cost': 314}\n",
      "\n"
     ]
    }
   ],
   "source": [
    "print(\"Shipment details that are sent by Phillip:\\n\\n\")\n",
    "i = 1\n",
    "while i < len(shipment)+1:\n",
    "    if shipment[i][\"Sender\"] == \"Philip\":\n",
    "        print(i,shipment[i],end=\"\\n\\n\")\n",
    "    i += 1"
   ]
  },
  {
   "cell_type": "markdown",
   "id": "2cc12843",
   "metadata": {},
   "source": [
    "**Q5. Print all shipment details that are received by Ramya**"
   ]
  },
  {
   "cell_type": "code",
   "execution_count": 8,
   "id": "49e546ee",
   "metadata": {},
   "outputs": [
    {
     "name": "stdout",
     "output_type": "stream",
     "text": [
      "Shipment details that are received by Ramya:\n",
      "\n",
      "\n",
      "1 {'Shipmentid': 101, 'Sender': 'Philip', 'Receiver': 'Ramya', 'Start Date': '14/03/2020', 'Delivery Date': '25/03/2020', 'Sender Location': 'Area 1', 'Receiver Location': 'Area 6', 'Delivery Status': 'Delivered', 'Shipping Cost': 198}\n",
      "\n",
      "3 {'Shipmentid': 103, 'Sender': 'Omega III', 'Receiver': 'Ramya', 'Start Date': '01/12/2020', 'Delivery Date': 'Null', 'Sender Location': 'Area 5', 'Receiver Location': 'Area 1', 'Delivery Status': 'In-Transit', 'Shipping Cost': 200}\n",
      "\n"
     ]
    }
   ],
   "source": [
    "print(\"Shipment details that are received by Ramya:\\n\\n\")\n",
    "i = 1\n",
    "while i < len(shipment)+1:\n",
    "    if shipment[i][\"Receiver\"] == \"Ramya\":\n",
    "        print(i,shipment[i],end=\"\\n\\n\")\n",
    "    i += 1"
   ]
  },
  {
   "cell_type": "code",
   "execution_count": null,
   "id": "d2d330dc",
   "metadata": {},
   "outputs": [],
   "source": []
  },
  {
   "cell_type": "markdown",
   "id": "c7a91d03",
   "metadata": {},
   "source": [
    "**Q6. Print all shipments which are in 'In-Transit' status**"
   ]
  },
  {
   "cell_type": "code",
   "execution_count": 9,
   "id": "58b560ab",
   "metadata": {},
   "outputs": [
    {
     "name": "stdout",
     "output_type": "stream",
     "text": [
      "Shipments in 'In-Transit' status:\n",
      "\n",
      "\n",
      "3 {'Shipmentid': 103, 'Sender': 'Omega III', 'Receiver': 'Ramya', 'Start Date': '01/12/2020', 'Delivery Date': 'Null', 'Sender Location': 'Area 5', 'Receiver Location': 'Area 1', 'Delivery Status': 'In-Transit', 'Shipping Cost': 200}\n",
      "\n",
      "6 {'Shipmentid': 106, 'Sender': 'John', 'Receiver': 'Omega III', 'Start Date': '28/06/2020', 'Delivery Date': 'Null', 'Sender Location': 'Area 3', 'Receiver Location': 'Area 1', 'Delivery Status': 'In-Transit', 'Shipping Cost': 270}\n",
      "\n"
     ]
    }
   ],
   "source": [
    "print(\"Shipments in 'In-Transit' status:\\n\\n\")\n",
    "i = 1\n",
    "while i < len(shipment)+1:\n",
    "    if shipment[i][\"Delivery Status\"] == \"In-Transit\":\n",
    "        print(i, shipment[i],end=\"\\n\\n\")\n",
    "    i += 1"
   ]
  },
  {
   "cell_type": "code",
   "execution_count": null,
   "id": "edbf6000",
   "metadata": {},
   "outputs": [],
   "source": []
  },
  {
   "cell_type": "markdown",
   "id": "7fa16280",
   "metadata": {},
   "source": [
    "**Q7. Print all shipments which are delivered within 7 days of courier Start date**"
   ]
  },
  {
   "cell_type": "code",
   "execution_count": 10,
   "id": "b37ed901",
   "metadata": {},
   "outputs": [],
   "source": [
    "import pandas as pd"
   ]
  },
  {
   "cell_type": "code",
   "execution_count": 11,
   "id": "2c2a481f",
   "metadata": {},
   "outputs": [
    {
     "name": "stdout",
     "output_type": "stream",
     "text": [
      "Shipments which are delivered within 7 days:\n",
      "\n",
      "\n",
      "4 {'Shipmentid': 104, 'Sender': 'Philip', 'Receiver': 'John', 'Start Date': '23/06/2020', 'Delivery Date': '25/06/2020', 'Sender Location': 'Area 1', 'Receiver Location': 'Area 4', 'Delivery Status': 'Delivered', 'Shipping Cost': 314}\n"
     ]
    }
   ],
   "source": [
    "print(\"Shipments which are delivered within 7 days:\\n\\n\")\n",
    "for i in shipment:\n",
    "    if shipment[i][\"Delivery Date\"] != \"Null\":\n",
    "        a = pd.to_datetime(shipment[i][\"Delivery Date\"], format='%d/%m/%Y')\n",
    "        b = pd.to_datetime(shipment[i][\"Start Date\"], format='%d/%m/%Y')\n",
    "        if (a - b).days <= 7:\n",
    "            print(i,shipment[i])"
   ]
  },
  {
   "cell_type": "markdown",
   "id": "a0d3c4e4",
   "metadata": {},
   "source": [
    "--------------------------------------------------------------\n",
    "Tried earlier:"
   ]
  },
  {
   "cell_type": "code",
   "execution_count": 13,
   "id": "b319971d",
   "metadata": {},
   "outputs": [],
   "source": [
    "def no_of_days_btwn_dates(a,b): #a = start date , b = end date in format = \"d/m/yyyy\"\n",
    "    mnd = {1:31,2:28,3:31,4:30,5:31,6:30,7:31,8:31,9:30,10:31,11:30,12:31}\n",
    "    c = a.split(\"/\")\n",
    "    d = b.split(\"/\")      # got the list for dd , mm and yy\n",
    "    diff = 0\n",
    "    addfactor = 0\n",
    "    subfactor = 0\n",
    "    for i in range(0,len(c)):    # got the int for start date list\n",
    "        c[i] = int(c[i])\n",
    "\n",
    "    for i in range(0,len(d)):    # got the int for end date list\n",
    "        d[i] = int(d[i]) \n",
    "\n",
    "    if d[2] - c[2] != 0:\n",
    "        for i in range(c[2]+1,d[2]):\n",
    "            if i%4 == 0:\n",
    "                addfactor += 366\n",
    "            else:\n",
    "                addfactor += 365\n",
    "        \n",
    "      \n",
    "        \n",
    "        if c[2]%4 == 0 and d[2]%4 == 0:\n",
    "            if c[1]<3 and d[1]>2:\n",
    "                addfactor+=367\n",
    "            elif c[1]<3 or d[1]>2:\n",
    "                addfactor+=366\n",
    "            else:\n",
    "                addfactor+=365\n",
    "                \n",
    "        elif c[2]%4 == 0 or d[2]%4 == 0:\n",
    "            if c[2]%4 == 0 and c[1]<3:\n",
    "                addfactor += 366\n",
    "            elif d[2]%4 == 0 and d[1]>2:\n",
    "                addfactor += 366\n",
    "            else:\n",
    "                addfactor += 365\n",
    "                \n",
    "        else:\n",
    "            addfactor +=365\n",
    "            \n",
    "            \n",
    "        \n",
    "    if d[1] - c[1] > 0:\n",
    "        for i in range(c[1],d[1]):\n",
    "            addfactor += mnd[i]\n",
    "    elif d[1] - c[1] == 0:\n",
    "        diff += d[0] - c[0] + addfactor\n",
    "        return diff\n",
    "    else:\n",
    "        for i in range(d[1],c[1]):\n",
    "            addfactor -= mnd[i]\n",
    "            \n",
    "            \n",
    "            \n",
    "            \n",
    "\n",
    "    diff = d[0] - c[0] + addfactor\n",
    "    return diff"
   ]
  },
  {
   "cell_type": "code",
   "execution_count": 14,
   "id": "dbcfdb23",
   "metadata": {},
   "outputs": [
    {
     "name": "stdout",
     "output_type": "stream",
     "text": [
      "Shipments which are delivered within 7 days:\n",
      "\n",
      "\n",
      "4 {'Shipmentid': 104, 'Sender': 'Philip', 'Receiver': 'John', 'Start Date': '23/06/2020', 'Delivery Date': '25/06/2020', 'Sender Location': 'Area 1', 'Receiver Location': 'Area 4', 'Delivery Status': 'Delivered', 'Shipping Cost': 314}\n"
     ]
    }
   ],
   "source": [
    "print(\"Shipments which are delivered within 7 days:\\n\\n\")\n",
    "for i in range(1,len(shipment)+1):\n",
    "    if shipment[i][\"Delivery Date\"] != \"Null\":\n",
    "        if no_of_days_btwn_dates(shipment[i][\"Start Date\"],shipment[i][\"Delivery Date\"]) <= 7:\n",
    "            print(i,shipment[i])"
   ]
  },
  {
   "cell_type": "markdown",
   "id": "af0989ee",
   "metadata": {},
   "source": [
    "----------------------------------------------------------------"
   ]
  },
  {
   "cell_type": "markdown",
   "id": "2879a8bf",
   "metadata": {},
   "source": [
    "**Q8. Print all shipments which are delivered after 15 days of courier start date or not yet been delivered.**"
   ]
  },
  {
   "cell_type": "code",
   "execution_count": 15,
   "id": "1fff4ed5",
   "metadata": {},
   "outputs": [
    {
     "name": "stdout",
     "output_type": "stream",
     "text": [
      "Shipments which arenot delivered or delivered after 15 days:\n",
      "\n",
      "\n",
      "2 {'Shipmentid': 102, 'Sender': 'Romesh', 'Receiver': 'Philip', 'Start Date': '18/06/2020', 'Delivery Date': '09/07/2020', 'Sender Location': 'Area 2', 'Receiver Location': 'Area 4', 'Delivery Status': 'Delivered', 'Shipping Cost': 275}\n",
      "\n",
      "3 {'Shipmentid': 103, 'Sender': 'Omega III', 'Receiver': 'Ramya', 'Start Date': '01/12/2020', 'Delivery Date': 'Null', 'Sender Location': 'Area 5', 'Receiver Location': 'Area 1', 'Delivery Status': 'In-Transit', 'Shipping Cost': 200}\n",
      "\n",
      "6 {'Shipmentid': 106, 'Sender': 'John', 'Receiver': 'Omega III', 'Start Date': '28/06/2020', 'Delivery Date': 'Null', 'Sender Location': 'Area 3', 'Receiver Location': 'Area 1', 'Delivery Status': 'In-Transit', 'Shipping Cost': 270}\n",
      "\n"
     ]
    }
   ],
   "source": [
    "print(\"Shipments which arenot delivered or delivered after 15 days:\\n\\n\")\n",
    "for i in shipment:\n",
    "    if shipment[i][\"Delivery Date\"] != \"Null\":\n",
    "        a = pd.to_datetime(shipment[i][\"Delivery Date\"], format='%d/%m/%Y')\n",
    "        b = pd.to_datetime(shipment[i][\"Start Date\"], format='%d/%m/%Y')\n",
    "        if (a - b).days > 15:\n",
    "            print(i,shipment[i],end=\"\\n\\n\")\n",
    "    else:\n",
    "        print(i, shipment[i],end=\"\\n\\n\")"
   ]
  },
  {
   "cell_type": "code",
   "execution_count": 16,
   "id": "51fd4942",
   "metadata": {},
   "outputs": [
    {
     "name": "stdout",
     "output_type": "stream",
     "text": [
      "Shipments which arenot delivered or delivered after 15 days:\n",
      "\n",
      "\n",
      "1 {'Shipmentid': 101, 'Sender': 'Philip', 'Receiver': 'Ramya', 'Start Date': '14/03/2020', 'Delivery Date': '25/03/2020', 'Sender Location': 'Area 1', 'Receiver Location': 'Area 6', 'Delivery Status': 'Delivered', 'Shipping Cost': 198}\n",
      "\n",
      "3 {'Shipmentid': 103, 'Sender': 'Omega III', 'Receiver': 'Ramya', 'Start Date': '01/12/2020', 'Delivery Date': 'Null', 'Sender Location': 'Area 5', 'Receiver Location': 'Area 1', 'Delivery Status': 'In-Transit', 'Shipping Cost': 200}\n",
      "\n",
      "4 {'Shipmentid': 104, 'Sender': 'Philip', 'Receiver': 'John', 'Start Date': '23/06/2020', 'Delivery Date': '25/06/2020', 'Sender Location': 'Area 1', 'Receiver Location': 'Area 4', 'Delivery Status': 'Delivered', 'Shipping Cost': 314}\n",
      "\n",
      "5 {'Shipmentid': 105, 'Sender': 'Ramya', 'Receiver': 'Romesh', 'Start Date': '29/08/2020', 'Delivery Date': '10/09/2020', 'Sender Location': 'Area 5', 'Receiver Location': 'Area 3', 'Delivery Status': 'Delivered', 'Shipping Cost': 275}\n",
      "\n",
      "6 {'Shipmentid': 106, 'Sender': 'John', 'Receiver': 'Omega III', 'Start Date': '28/06/2020', 'Delivery Date': 'Null', 'Sender Location': 'Area 3', 'Receiver Location': 'Area 1', 'Delivery Status': 'In-Transit', 'Shipping Cost': 270}\n",
      "\n"
     ]
    }
   ],
   "source": [
    "print(\"Shipments which arenot delivered or delivered after 15 days:\\n\\n\")\n",
    "for i in range(1,1+len(shipment)):\n",
    "    if shipment[i][\"Delivery Date\"] != \"Null\":\n",
    "        if no_of_days_btwn_dates(shipment[i][\"Start Date\"],shipment[i][\"Delivery Date\"]) <= 15:\n",
    "            print(i ,shipment[i],end=\"\\n\\n\")\n",
    "    else:\n",
    "        print(i ,shipment[i],end=\"\\n\\n\")"
   ]
  },
  {
   "cell_type": "code",
   "execution_count": null,
   "id": "529bb57e",
   "metadata": {},
   "outputs": [],
   "source": []
  },
  {
   "cell_type": "markdown",
   "id": "72167104",
   "metadata": {},
   "source": [
    "**Q9. Write a function find_all_routes to display all possible routes from senders location to receivers location given in the dictionary for each shipment.**"
   ]
  },
  {
   "cell_type": "code",
   "execution_count": 17,
   "id": "cabf5181",
   "metadata": {},
   "outputs": [],
   "source": [
    "def find_all_paths(routes,start,end,visited,path):\n",
    "    \n",
    "    visited[start]=True       \n",
    "    \n",
    "    path.append(start+1)           \n",
    "    if start==end:\n",
    "        print(path,end=\" \")\n",
    "    else:\n",
    "        for i in range(6):\n",
    "            if routes[start][i]==1  and (visited[i]==False):\n",
    "                  find_all_paths(routes, i, end,visited, path)\n",
    "    path.pop()           \n",
    "    visited[start]=False\n",
    "    \n",
    "visited = [False for i in  range(6)]\n",
    "routes = [[0,1,0,0,0,1], [1,0,1,1,0,0], [0,1,0,1,0,0], [0,1,1,0,1,0], [0,0,0,1,0,0], [1,0,0,0,0,0]]\n",
    "path = []"
   ]
  },
  {
   "cell_type": "code",
   "execution_count": 18,
   "id": "134d0009",
   "metadata": {},
   "outputs": [
    {
     "name": "stdout",
     "output_type": "stream",
     "text": [
      "Shipment Id\t\t: 101\n",
      "Sender Location\t\t: Area 1\n",
      "Receiver Location\t: Area 6\n",
      "Routes\t\t\t: [6, 1] \n",
      "\n",
      "Shipment Id\t\t: 102\n",
      "Sender Location\t\t: Area 2\n",
      "Receiver Location\t: Area 4\n",
      "Routes\t\t\t: [4, 2] [4, 3, 2] \n",
      "\n",
      "Shipment Id\t\t: 103\n",
      "Sender Location\t\t: Area 5\n",
      "Receiver Location\t: Area 1\n",
      "Routes\t\t\t: [1, 2, 3, 4, 5] [1, 2, 4, 5] \n",
      "\n",
      "Shipment Id\t\t: 104\n",
      "Sender Location\t\t: Area 1\n",
      "Receiver Location\t: Area 4\n",
      "Routes\t\t\t: [4, 2, 1] [4, 3, 2, 1] \n",
      "\n",
      "Shipment Id\t\t: 105\n",
      "Sender Location\t\t: Area 5\n",
      "Receiver Location\t: Area 3\n",
      "Routes\t\t\t: [3, 2, 4, 5] [3, 4, 5] \n",
      "\n",
      "Shipment Id\t\t: 106\n",
      "Sender Location\t\t: Area 3\n",
      "Receiver Location\t: Area 1\n",
      "Routes\t\t\t: [1, 2, 3] [1, 2, 4, 3] \n",
      "\n"
     ]
    }
   ],
   "source": [
    "def show_paths(s):\n",
    "    for i in  shipment:\n",
    "        print(\"Shipment Id\\t\\t:\",shipment[i][\"Shipmentid\"])\n",
    "        \n",
    "        sender_location=int(shipment[i][\"Sender Location\"][-1])\n",
    "        print('Sender Location\\t\\t: Area',sender_location)\n",
    "\n",
    "        receiver_location=int(shipment[i][\"Receiver Location\"][-1])\n",
    "        print('Receiver Location\\t: Area',receiver_location)\n",
    "        print('Routes\\t\\t\\t:', end=\" \")\n",
    "        \n",
    "        find_all_paths(routes,receiver_location-1,sender_location-1,visited,path)\n",
    "        print(\"\\n\")\n",
    "        \n",
    "        \n",
    "show_paths(shipment)"
   ]
  },
  {
   "cell_type": "code",
   "execution_count": null,
   "id": "826321b8",
   "metadata": {},
   "outputs": [],
   "source": []
  },
  {
   "cell_type": "code",
   "execution_count": null,
   "id": "59512a29-b77e-4b1d-aa18-e0e61754d8af",
   "metadata": {},
   "outputs": [],
   "source": []
  },
  {
   "cell_type": "code",
   "execution_count": null,
   "id": "02ec55e5-3d2f-4e34-9d0f-07e6d022b087",
   "metadata": {},
   "outputs": [],
   "source": []
  },
  {
   "cell_type": "code",
   "execution_count": null,
   "id": "3ecc9696-ca5f-40cc-bc8e-5330a23bb9c0",
   "metadata": {},
   "outputs": [],
   "source": []
  },
  {
   "cell_type": "code",
   "execution_count": null,
   "id": "db2b03de-5dc1-4443-8f91-0ffbbaae5843",
   "metadata": {},
   "outputs": [],
   "source": []
  },
  {
   "cell_type": "code",
   "execution_count": null,
   "id": "00d73257-be45-4242-b989-9dd22ff9d990",
   "metadata": {},
   "outputs": [],
   "source": []
  },
  {
   "cell_type": "code",
   "execution_count": null,
   "id": "42448abb-8490-4e88-8810-5585863bab53",
   "metadata": {},
   "outputs": [],
   "source": []
  },
  {
   "cell_type": "code",
   "execution_count": null,
   "id": "98225369-896e-45ff-add1-9800475dd4e6",
   "metadata": {},
   "outputs": [],
   "source": []
  },
  {
   "cell_type": "code",
   "execution_count": null,
   "id": "596b1b7d-cdb6-4b3e-94eb-8036a85b11c0",
   "metadata": {},
   "outputs": [],
   "source": []
  },
  {
   "cell_type": "markdown",
   "id": "c35635d6",
   "metadata": {},
   "source": [
    "                                                                                             Submitted by - Mayur Shrotriya"
   ]
  }
 ],
 "metadata": {
  "kernelspec": {
   "display_name": "Python 3 (ipykernel)",
   "language": "python",
   "name": "python3"
  },
  "language_info": {
   "codemirror_mode": {
    "name": "ipython",
    "version": 3
   },
   "file_extension": ".py",
   "mimetype": "text/x-python",
   "name": "python",
   "nbconvert_exporter": "python",
   "pygments_lexer": "ipython3",
   "version": "3.9.7"
  }
 },
 "nbformat": 4,
 "nbformat_minor": 5
}
